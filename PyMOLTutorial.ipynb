{
 "cells": [
  {
   "cell_type": "markdown",
   "metadata": {},
   "source": [
    "# PyMOL Tutorial\n",
    "\n",
    "At the end of this tutorial, you will be familiar with:\n",
    "* Navigating a protein structure in PyMOL\n",
    "* Using PyMOL to make selections, measurements, structural comparisons, and figures\n",
    "\n",
    "This notebook will walk you though the basics of analyzing protein structures with Pymol. We will be looking at a series of [Cytochrome](https://en.wikipedia.org/wiki/Cytochrome) proteins. This superfamily of proteins is characterized by an iron-heme prosthetic group and plays important, diverse functions in cell metabolism. The diverse reduction-oxidation chemistry that the cytochrome superfamily catalyzes in addition to their importance in metabolism has made these proteins of particular interest to scientists. First, we will be investigating a cytochrome protein you may already be familiar with from your introductory biology courses: [cytochrome c](http://pdb101.rcsb.org/motm/36). This protein is embedded in the mitochondial membrane and is responsible for shuttling electrons as part of the electron transport chain. "
   ]
  },
  {
   "cell_type": "markdown",
   "metadata": {},
   "source": [
    "# PyMOL GUI\n",
    "\n",
    "Open PyMOL. You should see something similar to the following:\n",
    "\n",
    "<img src=\"Assets/PyMOLTutorial/PyMOL_GUI.png\" width=\"800\" align=\"center\"/>\n",
    "\n",
    "The important tools that we will be using in this tutorial are annotated.\n",
    "\n",
    "**Command Line:** This is where we will be passing PyMOL commands. In addition to being a Python interpreter, PyMOL has its own syntax for performing a myriad of useful commands. You will be introduced to may of these commands in this tutorial.\n",
    "\n",
    "**Console:** This is where PyMOL tells you what it is doing. Information about selections and functions will be displayed here.\n",
    "\n",
    "**Dropdown Menus:** These menus contain much of the functionality in PyMOL. We will be using functions found under `Display`, `Scene`, and `Wizard` during this tutorial, but you are encouraged to play with the other functions!\n",
    "\n",
    "**Object Panel:** All molecules we are working with will be listed here. These molecules can either be loaded from a PDB file or created within PyMOL. There are two types of entities displayed in the object panel: molecular objects and selection objects. Molecular objects are composed of actual atoms with 3D coordinates that are displayed in PyMOL. Selection objects are groupings of atoms that the user can define to more efficiently work with different molecules.\n",
    "\n",
    "There are a series of actions we can apply to an object:\n",
    "\n",
    "- **Action:** Options for setting the current view of the protein and applying basic computations. You can zoom in, center view, or use a preset to change how the object looks. \n",
    "- **Show:** Change how objects are displayed. Toggle display of the protein backbone and sidechains.\n",
    "- **Hide:** Change how objects are displayed. Toggle display of the protein backbone and sidechains.\n",
    "- **Label:** Labels different components of an object. PyMOL will automatically label things with varying levels of granularity.\n",
    "- **Color:** Color the object!\n",
    "\n",
    "**Selection Tools:** Change how you intereact with an object. The three-button viewing mode with a mouse is *highly* suggested. The controls are described in the panel, but a human-readable summary of the most important controls is as follows:\n",
    "\n",
    "- **Left-click:** Select an entity. Click \"Selecting\" at the bottom of the selection tool panel to change what gets selected on click (atoms, residues, chains, etc.) \n",
    "- **Middle-click:** Center the view where tou clicked\n",
    "- **Right-click:** Opens an option menu for the entity you clicked on with actions normally available through the Object panel.\n",
    "- **Left-click + drag:** Rotate the molecule\n",
    "- **Middle-click + drag:** Move the molecule in-plane (pan)\n",
    "- **Right-click + drag:** Zoom in and out\n",
    "- **Scroll:** Change the depth of view (useful for focusing on certain features)\n",
    "- **Shift + Left-click:** select a group of atoms\n",
    "\n",
    "An overview of this functionality and more is available at the [PyMOL Wiki](https://pymolwiki.org/index.php/Practical_Pymol_for_Beginners)!"
   ]
  },
  {
   "cell_type": "markdown",
   "metadata": {},
   "source": [
    "## Basic PyMOL Functionality\n",
    "\n",
    "Protein Data Bank (PDB) structure ID `2N9J` is an NMR structure of human cytochrome c in an oxidized state. [This paper](https://www.ncbi.nlm.nih.gov/pubmed/26718409) demonstrates that cytochrome c adopts different conformational states depending on the redox state of the iron at the center of its heme (Oxidized: $Fe^{III}$, Reduced: $Fe^{II}$). Let's see what exactly changes when heme takes on an electron (i.e. becomes reduced).\n",
    "\n",
    "First, let's load a structure of oxidized human cytochrome c into PyMOL. Type the following into the command line and press enter: `fetch 2N9J`\n",
    "This command downloads this structure from the Protein Data Bank and loads it into PyMOL. You should see the following:\n",
    "\n",
    "<img src=\"Assets/PyMOLTutorial/2N9J_Loaded.png\" width=\"800\" align=\"center\"/>\n",
    "\n",
    "### Protein and Molecular Representations\n",
    "By default, PyMOL loads and displays a protein in \"cartoon\" form. This tells us the overall shape and structure of a protein but doesn't tell us anything about the side chains that make up the protein. Small molecule ligands, like heme, are displayed as \"sticks.\" This is typically what comes to mind for a molecular representation where we can see all atoms types and the bonds between them. Notice that `2N9J` has its own row in the object panel. Use the show/hide menus to explore different representations of the protein (default view is under `Action > Preset > Classifed`).\n",
    "\n",
    "### Sequence Representation\n",
    "To display the sequence of the protien, go to the dropdown menus and click `Display > Sequence`. This will show the protein sequence and any ligands in PDB numbering at the top of the GUI. As you select residues in the protein, they will also be highlighted in the sequence.\n",
    "\n",
    "### Structural States\n",
    "The structure in `2N9J` was solved using a method called protein nuclear magnetic resonance spectroscopy (protein NMR). This method of determining protein structure yeilds many possible low-energy solutions for conformations the protein may adopt. Several of these solutions are typically included in the files provided by the PDB. You can see how many of these solutions are included in `2N9J` by looking at the bottom of the Selection Tools panel where is says \"State\". Use the arrow buttons below \"State\" to look at the different low-energy solutions of the protein (hit play to watch the protein dance!). \n",
    "\n",
    "### Making and Using Selections\n",
    "Let's investigate how cytochrome c interacts with heme. From the cartoon representation, we can see that heme lies within a pocket completely surrounded by the protein. However, what side chain interactions are cytochrome c using to bind heme?\n",
    "\n",
    "First, let's get a full look at `2N9J` in stick form. In the Object Panel, select `Show > Licorice` for `2N9J`. You should see a complete mess. You can go through the rest of this tutorial like this, or we can go about this more intelligently using the tools PyMOL provides. Use `Hide > Licorice` for `2N9J` to remove the sticks and revert back to the cartoon representation.\n",
    "\n",
    "Except... where did heme go??? \n",
    "\n",
    "The first selection tool we will be using is the sequence bar that we toggled earlier at the top off the viewer. The protein sequence is displayed as a string of single-letter amino acids, followed by any ligands that are part of the object. The three-letter identifier for heme is `HEC` and should be at the end of the protein sequence. Click on `HEC`. You will see pink atoms highlighted in the protein where heme used to be. This means heme has been selected, but we still need to toggle heme to be shown.\n",
    "\n",
    "<img src=\"Assets/PyMOLTutorial/2N9J-HEC_Selected.png\" width=\"800\" align=\"center\"/>\n",
    "\n",
    "Now that `HEC` is selected, here are three ways we can make it reappear:\n",
    "\n",
    "1. Right-click on `HEC` in the sequence bar to show a dropdown of options. To show `HEC` as a stick representation, select `Show > Sticks` from the dropdown.\n",
    "2. Notice that a new row appeared in the object panel. This new row, called `(sele)`, is a selection group containing any objects we have selected. Select `Show > Sticks` for `(sele)` to show our selection, heme.\n",
    "3. In the command line, type `show sticks, sele` and press enter.\n",
    "\n",
    "`(sele)` is a special selection group for all objects we have selected. You can select additional objects by clicking the stucture, selecting portions of a sequence, or using the command line.\n",
    "\n",
    "If we want to make and store a selection, we can do the following: `select my_favorite_ligand, sele`. A new selection object named \"my_favorite_ligand\" should appear in the object panel and contains a selection of objects in `(sele)`. We can go back anytime to apply an action to this saved selection group. \n",
    "\n",
    "The PyMOL command line uses its own syntax detailed [here](https://pymolwiki.org/index.php/Selection_Algebra) and [here](https://pymolwiki.org/index.php/Objects_and_Selections) to allow for specific selections by the user. When you select portions of the structure, the console above will report information such as chain, residue name, residue number, and atom name of the selection. This information, plus some clever selection algebra, will allow us to make very specific selections through the command line. We can also manipulate selected portions of the structure using keyword commands (e.g. `show` as demonstrated above). A full list of commands that are compatible with selections can be found [here](https://pymol.org/pymol-command-ref.html).\n",
    "\n",
    "Some examples of useful commands that use selections (try these out!):\n",
    "\n",
    "* `color red, resi 62-75` (colro residues 62-75 red)\n",
    "* `show sticks, resn CYS and not backbone` (only show sidechains as sticks for cysteine residues)\n",
    "* `hide sticks, hetatm` (hides objects that use PDB hetatm records, typically ligands)\n",
    "\n",
    "Different ways to deselect objects (i.e. empty `(sele)`):\n",
    "1. Type `deselect` into the command line and press `Enter`\n",
    "2. Click the dead space anywhere around a structure\n",
    "3. Select `Action > Delete Selection` for `(sele)`"
   ]
  },
  {
   "cell_type": "markdown",
   "metadata": {},
   "source": [
    "## Investigating the Structure of Cytochrome C\n",
    "\n",
    "Now that we are familiar with basic functions and commands in PyMOL, let's get back to investigating how the structure of cytochrome c changes depending on its oxidation state. First, let's see which residues are in Van der Waal's contact distance with heme. Type this command into the command line:\n",
    "`select heme_contacts_4A, resn HEC around 4`. This command made a new selection group, \"heme_contacts\", that includes any atom that is within 4 angstroms (around 4) of heme (*resn*ame HEC). Show sidechains only for residues in `heme_contacts` by selecting `Show > side chain`.\n",
    "\n",
    "Hmm... cytochrome c is pretty small, so `heme_contacts` doesn't really help us focus on residues immediately contacting heme. There are a lot of disembodied atoms floating around since our selection only specified atoms that were close enough to heme. We're interested in how the protein structure changes with oxidation state, so maybe we should focus on interactions with the iron in heme specifically?\n",
    "\n",
    "Let's try: `select heme_contacts_2A, br. resn HEC and name FE around 2.5`\n",
    "\n",
    "Neat! Which two residues pop out?\n",
    "\n",
    "Play around with selections and show/hide commands to learn more about the interactions that cytochrome c makes with heme. There are two more residues that make special interactions with heme!\n",
    "\n",
    "### Taking Measurements\n",
    "From the dropdown menus, select `Wizard > Measurement`. The \"Measurement\" tab will appear above the Selection Tools panel. By default, the measurement tool will measure distances in Angstroms. To change the measurement more, click `Distances` and select the type of measurement you want to make.\n",
    "\n",
    "<img src=\"Assets/PyMOLTutorial/Measurement_Panel.png\" width=\"300\" align=\"center\"/>\n",
    "\n",
    "Let's see how close the two residues in the `heme_contacts_2A` selection are to the iron atom. Click on the iron atom and then the closest atom in one of the contacting residues. This will create a new measurement object in the object panel. By default, each measurement will create a new measurement object. This behavior can be toggled by clicking on `Create New Object` under the measurement method tab and selecting a new option (replace previous measurement or merge).\n",
    "\n",
    "Cycle through the different states of `2N9J`. How do the measurements vary in the different states?\n",
    "\n",
    "Let's measure the angle formed between the two contacting residue atoms and the heme iron. Switch to the angle measurement mode and select the first contacting atom, iron, then the second contacting iron. How does this measurement vary as you go through different states?\n",
    "\n",
    "### Structural Alignments"
   ]
  },
  {
   "cell_type": "markdown",
   "metadata": {},
   "source": [
    "## Deliverables:\n",
    "* Turn in a PyMOL session of `2N9J` and `2N9I` with the following:\n",
    "    - Color residues coordinating iron RED and place them in a group called \"CoordResidues\" \n",
    "    - Color residues covalently bonded to heme YELLOW and place them in a group called \"CovalentResidues\"\n",
    "    - Color heme PURPLE and label it with its residue identifier\n",
    "    - Color the rest of the protein white\n",
    "    - Align `2N9J` onto `2N9I`\n",
    "* Produce a .png image of the key interactions between cytochrome c and heme in `2N9J`. Show the two residues coordinating iron and the two residues covalently bound to heme as sticks. Label these residues with their position number. No other protein residues should be visible!\n",
    "\n",
    "## Suggested Activities:\n",
    "* Play around with the Presets found under the Actions tab to see possible protein representations in PyMOL.\n",
    "* Change how the protein is represented using different options under the Show tab. What information is gained/lost with different representations?"
   ]
  },
  {
   "cell_type": "markdown",
   "metadata": {},
   "source": []
  },
  {
   "cell_type": "markdown",
   "metadata": {},
   "source": []
  },
  {
   "cell_type": "markdown",
   "metadata": {},
   "source": [
    "[Cytochrome p450s]()\n",
    "[Review of engineered Cytochrome P450s](https://www.sciencedirect.com/science/article/abs/pii/S1367593118301431)"
   ]
  },
  {
   "cell_type": "markdown",
   "metadata": {},
   "source": [
    "Additional Resources:\n",
    "* PyMol Wiki"
   ]
  },
  {
   "cell_type": "code",
   "execution_count": null,
   "metadata": {},
   "outputs": [],
   "source": []
  }
 ],
 "metadata": {
  "kernelspec": {
   "display_name": "Python 3",
   "language": "python",
   "name": "python3"
  },
  "language_info": {
   "codemirror_mode": {
    "name": "ipython",
    "version": 3
   },
   "file_extension": ".py",
   "mimetype": "text/x-python",
   "name": "python",
   "nbconvert_exporter": "python",
   "pygments_lexer": "ipython3",
   "version": "3.6.8"
  }
 },
 "nbformat": 4,
 "nbformat_minor": 4
}
