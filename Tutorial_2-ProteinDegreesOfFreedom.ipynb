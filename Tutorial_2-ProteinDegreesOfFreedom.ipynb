{
 "cells": [
  {
   "cell_type": "markdown",
   "metadata": {},
   "source": [
    "# Protein Structure and Kinematics\n",
    "In the last lab, we learned how to use PyMOL to investigate protein structures and create hypotheses on structure-function relationships. However, we saw how difficult it is to predict how a binding pocket should be built by hand. To address this, several computational methods have been developed to use computers to predict and design protein structure and function.\n",
    "\n",
    "In this lab, we will learn how proteins can adopt different conformations and how these conformations are imperative to protein design. We will apply these concepts to explore how protein design algorithms utilize these degrees of freedom in the next lab. At the end of this tutorial, you will be familiar with:\n",
    "\n",
    "* Quantifying protein degrees of freedom\n",
    "* Protein backbone flexibility\n",
    "* Amino acid side chain rotamers"
   ]
  },
  {
   "cell_type": "markdown",
   "metadata": {},
   "source": [
    "## Rosetta: A quick introduction\n",
    "These tutorials will make heavy use of the [Rosetta Macromolecular Modeling Suite](https://www.annualreviews.org/doi/full/10.1146/annurev.biochem.77.062906.171838) to demonstrate different protein design concepts. We wil do a deep dive on the inner workings of Rosetta and the protein design algoithms implemented within, but first we will use Rosetta to demonstrate and visualize protein building blocks."
   ]
  },
  {
   "cell_type": "markdown",
   "metadata": {},
   "source": [
    "## Starting the PyMOLMover\n",
    "Navigate to where you've installed PyRosetta on your computer and find the file called `PyMOL-RosettaServer.py`. The path should be `<Base path>/PyRosetta/src/PyMOL-RosettaServer.py`. Open up PyMOL and enter the command `run path/to/PyMOL-RosettaServer.py`. This will open a connection between Rosetta and PyMOL so that they can communicate.\n",
    "\n",
    "This is what it should look like:\n",
    "\n",
    "<img src=\"Assets/Tutorial_2/RunPyMOLServer.png\" width=\"600\" align=\"center\"/>\n",
    "\n",
    "\n",
    "Once the connection is established, we can pass a protein structure to PyMOL through Rosetta.\n",
    "\n",
    "To run the following code, select the cell by clicking on it then click the \"Run\" button in the top bar. Alternatively, you can use `Ctrl + Enter` to run code in a selected cell or `Shift + Enter` run code in the selected cell and automatically move on to the next cell."
   ]
  },
  {
   "cell_type": "code",
   "execution_count": 3,
   "metadata": {},
   "outputs": [
    {
     "name": "stdout",
     "output_type": "stream",
     "text": [
      "PyRosetta-4 2019 [Rosetta devel 2019.40.post.dev+40.master.aeda51ea830d1d315912d2563a754cb38d9e49b8 2019-10-07T17:21:58] retrieved from: git@github.com:RosettaCommons/main.git\n",
      "(C) Copyright Rosetta Commons Member Institutions. Created in JHU by Sergey Lyskov and PyRosetta Team.\n"
     ]
    }
   ],
   "source": [
    "# Package and Module imports\n",
    "import gzip\n",
    "import os\n",
    "import sys\n",
    "\n",
    "import pandas as pd\n",
    "import numpy as np\n",
    "\n",
    "%matplotlib inline\n",
    "import matplotlib.pyplot as plt\n",
    "from matplotlib.pyplot import figure\n",
    "plt.style.use('seaborn-white')\n",
    "\n",
    "import pyrosetta\n",
    "import pyrosetta.rosetta as rosetta\n",
    "from pyrosetta import toolbox\n",
    "\n",
    "from ipywidgets import interact, interactive, fixed, interact_manual, HBox, Label\n",
    "import ipywidgets as widgets\n",
    "from IPython.display import display\n",
    "\n",
    "# PyRosetta init\n",
    "pyrosetta.init('-ex1 -ex2 -extrachi_cutoff 0 -mute all')\n",
    "sfxn = rosetta.core.scoring.get_score_function()\n",
    "pymover = rosetta.protocols.moves.PyMOLMover()\n",
    "\n",
    "# Widget init\n",
    "output = widgets.Output()"
   ]
  },
  {
   "cell_type": "markdown",
   "metadata": {},
   "source": [
    "# Degrees of Freedom in Proteins are Torsion Angles\n",
    "\n",
    "[Torsion angles](https://en.wikipedia.org/wiki/Dihedral_angle) are the degrees of freedom that protein engineers use to quantify protein conformations. In short, the angle formed by two atoms when looking down the axis of rotatable bond is a torsion angle. For each residue in a protein, we can use torsion angles to describe a unique backbone and side chain conformation. \n",
    "\n",
    "### A protein backbone possess three unique torsional degrees of freedom per residue: \n",
    "\n",
    "1. $\\phi$, Phi Angle: formed by the [C-N-C$\\alpha$-C] backbone atoms \n",
    "2. $\\psi$, Psi Angle: formed by the [N-C$\\alpha$-C-N] backbone atoms\n",
    "3. $\\omega$, Omega angle: formed by the [C$\\alpha$-C-N-C$\\alpha$] backbone atoms\n",
    "\n",
    "While there are three torsions we can measure, typically only two ($\\phi$, Phi Angle and $\\psi$, Psi Angle) are required to describe a unique conformation at a given position. This is because the $\\omega$, Omega torsion angle is (for all intents and purposes) fixed at 180$^\\circ$ due to the partial resonance and $sp_2$ character of the peptide bond.\n",
    "\n",
    "### Amino acid side chains possess variable torsional degrees of freedom.\n",
    "\n",
    "There are 18 side chains that possess torsional degrees of freedom (alanine and glycine lack an R-group with rotatable bonds). We will have a chance to explore these degrees of freedom in depth later in this lab."
   ]
  },
  {
   "cell_type": "markdown",
   "metadata": {},
   "source": [
    "# A Brief Review of Secondary Structure\n",
    "\n",
    "Alpha helicies, beta sheets, and loops are the archetypal protein secondary structures. As protein engineers, we have become pretty good at using these building blocks to build increasingly large and complex proteins. Read this review, [The Coming of Age of De Novo Protein Design](https://www.ncbi.nlm.nih.gov/pubmed/27629638), to get a taste of the diversity of proteins we can engineer using just these three components. The following interactive labs will demonstrate why alpha helices and beta sheets are the core building blocks of proteins and why nature forces proteins to adopt these conformations."
   ]
  },
  {
   "cell_type": "markdown",
   "metadata": {},
   "source": [
    "### Why Ramachandran Plots?\n",
    "\n",
    "You may have encountered the Ramachandran plot before and recall that it depicts \"acceptable\" $\\phi$/$\\psi$ angles in a protein structure. Instead of trying to make sense of a plot, let's deduce what it is trying to tell us by playing with a protein backbone and one simple fact: **secondary structure exists to minimize unsatisfied hydrogen bond donors/acceptors** ([here's one opinion on this topic](https://www.ncbi.nlm.nih.gov/pmc/articles/PMC2253345/)). Each peptide bond in a protein backbone contains a carbonyl group (hydrogen bond acceptor) and a amine group (hydrogen bond donor), and having an unsatisfied donor/acceptor in the protein core is highly unfavorable. A good hydrgen bond is 1.5-2 angstroms between the donor hydrogen and acceptor atom. \n",
    "\n",
    "Let's experiment with a long protein backbone to see how we can create structures composed of repeating $\\phi$/$\\psi$ angles that maximize backbone hydrogen bonding. Think about a backbone can interact with itself to maximize hydrogen bonding, as well as interacting with other backbone elements.\n",
    "\n",
    "Run the following cell to experiment with different $\\phi$/$\\psi$ values that fullfil the physical constraints of secondary structure."
   ]
  },
  {
   "cell_type": "code",
   "execution_count": null,
   "metadata": {},
   "outputs": [],
   "source": [
    "# Visualize the Ramachandran plot\n",
    "backbone = pyrosetta.pose_from_sequence('AAAAAAAAAAAAAAAAAAAAAAAAAAAAAA')\n",
    "pymover.apply(backbone)\n",
    "\n",
    "def set_phi(phi):\n",
    "    for residue in range(1, backbone.size() + 1):\n",
    "        backbone.set_phi(residue, phi)\n",
    "    pymover.apply(backbone)\n",
    "    \n",
    "def set_psi(psi):\n",
    "    for residue in range(1, backbone.size() + 1):\n",
    "        backbone.set_psi(residue, psi)\n",
    "    pymover.apply(backbone)\n",
    "    \n",
    "phi_slider = widgets.IntSlider(min=-180, max=180, step=10, value=180)\n",
    "psi_slider = widgets.IntSlider(min=-180, max=180, step=10, value=180)\n",
    "\n",
    "display(interactive(set_phi, phi=phi_slider))\n",
    "display(interactive(set_psi, psi=psi_slider))"
   ]
  },
  {
   "cell_type": "markdown",
   "metadata": {},
   "source": [
    "The following ramachandran plot was generated using the [Top8000](http://kinemage.biochem.duke.edu/databases/top8000.php) dataset provided by the [Richardson Lab](http://kinemage.biochem.duke.edu) at Duke University. "
   ]
  },
  {
   "cell_type": "code",
   "execution_count": null,
   "metadata": {
    "scrolled": false
   },
   "outputs": [],
   "source": [
    "rama_df = pd.read_csv(os.path.join('Assets', 'Tutorial_2', 'rama8000-ileval-nopreP.zeroed.data'), header=None)\n",
    "X = Y = range(-179, 181, 2)\n",
    "Z = np.asarray(rama_df[2]).reshape((180,180))\n",
    "\n",
    "figure(figsize=(10, 10), dpi=100, facecolor='w', edgecolor='k')\n",
    "plt.contour(X, Y, Z, 8, colors='black')\n",
    "plt.contourf(X, Y, Z, 25, cmap='Blues')\n",
    "\n",
    "_ = plt.xticks(range(-180, 210, 30))\n",
    "_ = plt.yticks(range(-180, 210, 30))\n",
    "_ = plt.xlabel('Phi (degrees)')\n",
    "_ = plt.ylabel('Psi (degrees)')"
   ]
  },
  {
   "cell_type": "markdown",
   "metadata": {},
   "source": [
    "# Secondary Structures Possess Varied Geometries\n",
    "\n",
    "We have explored using repeating $\\phi$/$\\psi$ elements to create regular secondary structures. However, you may have noticed that proteins do not resemble boxes assembled from straight alpha helices and flat beta sheets. By making regular variations to the \"ideal\" $\\phi$/$\\psi$ values, we can make secondary structures that maintain backbone hydrogen bonding while adopting various overall geometries.\n",
    "\n",
    "Alpha helicies, for instance, can be described using parametric equations described by Grigoryan and DeGrado in their paper [Parameterization of Helical Bundles](https://doi.org/10.1016/j.jmb.2010.08.058). We won't concern ourselves with the exact equations here; the goal is to understand that we can use a set of equations with certain parameters to describe unique protein conformations.\n",
    "\n",
    "Run the following cell to explore parameter space for different backbones. If you try to build a backbone and nothing happens, you most likely chose incompatible parameters. Try different parameters to see what types of structures you can create!"
   ]
  },
  {
   "cell_type": "code",
   "execution_count": 6,
   "metadata": {},
   "outputs": [
    {
     "data": {
      "application/vnd.jupyter.widget-view+json": {
       "model_id": "d382c9c36535447eb411d44980466a05",
       "version_major": 2,
       "version_minor": 0
      },
      "text/plain": [
       "HBox(children=(Label(value='Default Crick Parameters'), Dropdown(options=('alpha_helix', 'alpha_helix_100', 'b…"
      ]
     },
     "metadata": {},
     "output_type": "display_data"
    },
    {
     "data": {
      "application/vnd.jupyter.widget-view+json": {
       "model_id": "8ab7dd5425e6429d8cfd335561f1fa3c",
       "version_major": 2,
       "version_minor": 0
      },
      "text/plain": [
       "HBox(children=(Label(value='Symmetry'), IntSlider(value=1, max=12, min=1)))"
      ]
     },
     "metadata": {},
     "output_type": "display_data"
    },
    {
     "data": {
      "application/vnd.jupyter.widget-view+json": {
       "model_id": "4bd3241326704172b1ec9e9f8e6f33f4",
       "version_major": 2,
       "version_minor": 0
      },
      "text/plain": [
       "HBox(children=(Label(value='Length'), IntSlider(value=30, min=1)))"
      ]
     },
     "metadata": {},
     "output_type": "display_data"
    },
    {
     "data": {
      "application/vnd.jupyter.widget-view+json": {
       "model_id": "733ccb45b4484cc3a0106273b620b20b",
       "version_major": 2,
       "version_minor": 0
      },
      "text/plain": [
       "HBox(children=(Label(value='r0'), FloatSlider(value=10.0, max=30.0, min=1.0)))"
      ]
     },
     "metadata": {},
     "output_type": "display_data"
    },
    {
     "data": {
      "application/vnd.jupyter.widget-view+json": {
       "model_id": "0e2be7a649124cef8f6ff4b35cc65b33",
       "version_major": 2,
       "version_minor": 0
      },
      "text/plain": [
       "HBox(children=(Label(value='omega0'), FloatSlider(value=0.0, max=0.7853981633974483, step=0.008726646259971648…"
      ]
     },
     "metadata": {},
     "output_type": "display_data"
    },
    {
     "data": {
      "application/vnd.jupyter.widget-view+json": {
       "model_id": "bfd59938fe804e88ace2db5bd51d2961",
       "version_major": 2,
       "version_minor": 0
      },
      "text/plain": [
       "HBox(children=(Label(value='delta_omega0'), FloatSlider(value=0.0, max=3.141592653589793, step=0.0872664625997…"
      ]
     },
     "metadata": {},
     "output_type": "display_data"
    },
    {
     "data": {
      "application/vnd.jupyter.widget-view+json": {
       "model_id": "12b1c4450559458ebf62f7b7865f6481",
       "version_major": 2,
       "version_minor": 0
      },
      "text/plain": [
       "HBox(children=(Label(value='delta_omega1'), FloatSlider(value=0.0, max=3.141592653589793, step=0.0872664625997…"
      ]
     },
     "metadata": {},
     "output_type": "display_data"
    },
    {
     "data": {
      "application/vnd.jupyter.widget-view+json": {
       "model_id": "65ae1b4c093e42c7842063e67c2de456",
       "version_major": 2,
       "version_minor": 0
      },
      "text/plain": [
       "HBox(children=(Label(value='epsilon'), FloatSlider(value=1.0, max=2.0)))"
      ]
     },
     "metadata": {},
     "output_type": "display_data"
    },
    {
     "data": {
      "application/vnd.jupyter.widget-view+json": {
       "model_id": "1da10273a57242bf8b5590de781b0c4a",
       "version_major": 2,
       "version_minor": 0
      },
      "text/plain": [
       "Button(description='Build Backbone', style=ButtonStyle())"
      ]
     },
     "metadata": {},
     "output_type": "display_data"
    },
    {
     "data": {
      "application/vnd.jupyter.widget-view+json": {
       "model_id": "fb70e1d0a56b43dd8286d2a26361e0f6",
       "version_major": 2,
       "version_minor": 0
      },
      "text/plain": [
       "Button(description='Generate PDB', style=ButtonStyle())"
      ]
     },
     "metadata": {},
     "output_type": "display_data"
    }
   ],
   "source": [
    "# Explore parameterized protein space\n",
    "\n",
    "def create_bundle(_, **kwargs):\n",
    "    \n",
    "    make_bundle_xml = f'''\n",
    "    <SCOREFXNS>\n",
    "        <ScoreFunction name=\"sfxn\" weights=\"ref2015\"/>\n",
    "    </SCOREFXNS>\n",
    "    <MOVERS>\n",
    "        <MakeBundle name=\"wiggle\" helix_length=\"{length_slider.value}\" crick_params_file=\"{crick_params.value}\" symmetry=\"{symmetry_slider.value}\" \n",
    "        r0=\"{r0_slider.value}\"  omega0=\"{omega0_slider.value}\" delta_omega0=\"{domega0_slider.value}\" delta_omega1=\"{domega1_slider.value}\"\n",
    "        epsilon=\"{epsilon_slider.value}\">\n",
    "            <Helix/>\n",
    "        </MakeBundle>\n",
    "    </MOVERS>'''\n",
    "    rosetta.protocols.rosetta_scripts.XmlObjects.create_from_string(make_bundle_xml).get_mover(\"wiggle\").apply(wiggle)\n",
    "    pymover.apply(wiggle)\n",
    "\n",
    "def dump_wiggle(_):\n",
    "    wiggle.dump_pdb('ParametricallyDesignedProtein.pdb')\n",
    "\n",
    "wiggle = rosetta.core.pose.Pose()\n",
    "\n",
    "crick_params_options = ['alpha_helix', 'alpha_helix_100', 'beta_strand', 'neutral_beta_strand', 'L_alpha_helix']\n",
    "crick_params = widgets.Dropdown(options=crick_params_options, value='alpha_helix')\n",
    "\n",
    "length_slider = widgets.IntSlider(min=1, max=100, value=30)\n",
    "symmetry_slider = widgets.IntSlider(min=1, max=12, value=1)\n",
    "r0_slider = widgets.FloatSlider(min=1, max=30, step=0.1, value=10)\n",
    "omega0_slider = widgets.FloatSlider(min=0, max=np.pi/4, step=np.pi/360, value=0)\n",
    "domega0_slider = widgets.FloatSlider(min=0, max=np.pi, step=np.pi/36, value=0)\n",
    "domega1_slider = widgets.FloatSlider(min=0, max=np.pi, step=np.pi/36, value=0)\n",
    "epsilon_slider = widgets.FloatSlider(min=0, max=2, step=0.1, value=1)\n",
    "\n",
    "run_button = widgets.Button(description='Build Backbone')\n",
    "dump_pdb = widgets.Button(description='Generate PDB')\n",
    "\n",
    "display(HBox([Label('Default Crick Parameters'), crick_params]))\n",
    "display(HBox([Label('Symmetry'), symmetry_slider]))\n",
    "display(HBox([Label('Length'), length_slider]))\n",
    "display(HBox([Label('r0'), r0_slider]))\n",
    "display(HBox([Label('omega0'), omega0_slider]))\n",
    "display(HBox([Label('delta_omega0'), domega0_slider]))\n",
    "display(HBox([Label('delta_omega1'), domega1_slider]))\n",
    "display(HBox([Label('epsilon'), epsilon_slider]))\n",
    "display(run_button)\n",
    "display(dump_pdb)\n",
    "\n",
    "run_button.on_click(create_bundle)\n",
    "dump_pdb.on_click(dump_wiggle)"
   ]
  },
  {
   "cell_type": "markdown",
   "metadata": {},
   "source": [
    "This demo only touches basic methods for generating secondary structures. Some things to explore:\n",
    "* How would you use these parameters and equations to generate [beta-sheets](https://en.wikipedia.org/wiki/Beta_sheet)?\n",
    "* How would you make perturbations to these regular structures (e.g. a bend/kink)?\n",
    "* How would you combine alpha helices and beta sheets to create a protein from scratch?"
   ]
  },
  {
   "cell_type": "markdown",
   "metadata": {},
   "source": [
    "# Protein Loops and Turns are... Complicated\n",
    "We've explored why regular secondary structures are important for protein stability and how to generate them using simple parametric equations. However, you may have noticed in the previous example that the symmetric assemblies were not connected to each other; only alpha/beta structural elements were built. \n",
    "\n",
    "Protein loops and turns are the structural elements responsible for connecting regualr secondary structural elements. Loops and turns are irregular; where alpha helicies and beta sheets are composed of residues with repeating $\\phi$/$\\psi$ angles, loops and turns are quite varied. Since turns are typically [short 1-5 residue sequences](https://en.wikipedia.org/wiki/Turn_(biochemistry)), they are slightly better defined. However, due to their varied nature, longer protein loops are difficult to model (remember, backbone hydrogen bond donors/acceptors still need to be satisfied!). \n",
    "\n",
    "Loop modeling is especially important since loops play a large part in protein funciton and conformational changes. Read this review for an excellent run-down of the problem: [Computational design of structured loops for new protein functions](https://www.ncbi.nlm.nih.gov/pmc/articles/PMC6530579/).\n",
    "\n",
    "**tl;dr** State-of-the-art methods for loop modelling rely on sampling $\\phi/\\psi$ torsions using a variety of methods and quantitatively evaluating these conformations with a score (more on this in the next tutorial). Let's use one of these methods (Kinematic Closure) to fill in the loops between alpha helicies in a 4-fold symmetric helical bundle."
   ]
  },
  {
   "cell_type": "code",
   "execution_count": 7,
   "metadata": {},
   "outputs": [],
   "source": [
    "# Use KIC to build loops for a pre-generated bundle\n",
    "sys.path.append(os.path.join(os.getcwd(),'Assets'))\n",
    "sys.path.append(os.path.join(os.getcwd(),'Assets/Tutorial_2'))\n",
    "from Assets.Tutorial_2.simple_pose_moves import insert_alas\n",
    "\n",
    "wiggle = rosetta.core.pose.Pose()\n",
    "make_bundle_xml = f'''\n",
    "<SCOREFXNS>\n",
    "    <ScoreFunction name=\"sfxn\" weights=\"ref2015\"/>\n",
    "</SCOREFXNS>\n",
    "<MOVERS>\n",
    "    <MakeBundle name=\"wiggle\" helix_length=\"30\" omega0=\"0.1\" crick_params_file=\"alpha_helix\" symmetry=\"2\" r0=\"6\">\n",
    "        <Helix delta_omega1=\"3.14\"/>\n",
    "        <Helix invert=\"1\" delta_omega0=\"1.5707963\" delta_omega1=\"3.14\" z0_offset=\"3.14\"/>\n",
    "    </MakeBundle>\n",
    "</MOVERS>'''\n",
    "rosetta.protocols.rosetta_scripts.XmlObjects.create_from_string(make_bundle_xml).get_mover(\"wiggle\").apply(wiggle)\n",
    "\n",
    "# Add four residues to helicies for connections\n",
    "for loop_start in [30, 64, 98]:\n",
    "    insert_alas(wiggle, loop_start, 4)\n",
    "    loopmodeler_xml = f\"\"\"\n",
    "    <MOVERS>\n",
    "    <LoopModeler name=\"model_loop\" config=\"kic\" fast=\"True\" >\n",
    "        <Loop start=\"{loop_start-4}\" stop=\"{loop_start + 8}\" cut=\"{loop_start + 4}\"/>\n",
    "    </LoopModeler>\n",
    "    </MOVERS>\n",
    "    \"\"\"\n",
    "    rosetta.protocols.rosetta_scripts.XmlObjects.create_from_string(loopmodeler_xml).get_mover(\"model_loop\").apply(wiggle)\n",
    "    \n",
    "pymover.apply(wiggle)"
   ]
  },
  {
   "cell_type": "markdown",
   "metadata": {},
   "source": [
    "# Short Protein Sequences Can Form Structural Motifs\n",
    "\n",
    "So far we have explored the types of structural motifs protein sequences typicaly adopt: $\\alpha$-helicies, $\\beta$-sheets, and structured/unstructured loops and turns. However, we have neglected to consider the effect of the protein sequence on protein folding. In proteins, **sequence defines structure**. It has been known for [quite some time](https://pubs.acs.org/doi/abs/10.1021/bi00699a001) that different amino acids have a higher propensity for certain types of secondary structure, and may not be as common in others. This has been examined and validated [many](https://bmcstructbiol.biomedcentral.com/articles/10.1186/1472-6807-12-18), [many](https://www.sciencedirect.com/science/article/pii/S0065323300530022?via%3Dihub), [many](https://science.sciencemag.org/content/240/4859/1648), [many](https://onlinelibrary.wiley.com/doi/abs/10.1002/prot.340200403) times. \n",
    "\n",
    "Simply put, residue identity dictates the possible backbone conformations at each position in a sequence. These residues compose a short sequences that may adopt a number of conformations based on its composition. The aggregate effect manifests itself as a unique overall structure for a given protein sequence.\n",
    "\n",
    "Practically, this information is important for (1) predicting the structure of a protein sequence from scratch and (2) designing sequence onto an existing protein backbone.\n",
    "\n",
    "For ab initio structure prediction, fragment libraries are typically used to emperically sample the possible backbone degrees of freedom (torsions) that a short protein sequence may adopt. For instance, Rosetta uses the [VALL database](https://www.ncbi.nlm.nih.gov/pmc/articles/PMC3160850/) to generate structural fragments for a given protein sequence. The Grigoryan Lab at Dartmouth has assembled a database of [**TER**tiary **M**otif**S** (TERMS)](https://www.pnas.org/content/113/47/E7438), where they claim 50% of the entire PDB can be completely described using approximately 600 structural motifs from their database.\n",
    "\n",
    "We will discuss how Rosetta uses these fragment libraries and performs sequence design in the next tutorial."
   ]
  },
  {
   "cell_type": "markdown",
   "metadata": {},
   "source": [
    "# Protein Side-Chains Adopt Different Conformations\n",
    "As we saw in the previous tutorial, amino acid side chains also adopt different conformations. These conformations vary depending on the backbone $\\phi / \\psi$ angles as well as the local environment of the side chain. First, let's explore how we can quantify different conformations for each naturally-occuring (canonical) amino acid.\n",
    "\n",
    "In addition to backbone $\\phi / \\psi$ torsion angles, there are 18 amino acids with additional degress of freedom. Glycine and alanine are the two amino acids that lack these additional degrees of freedom since their R-groups lack rotatable bonds. However, all other amino acids possess one or more $\\chi$ torsion angles. All $\\chi$ angles for each canonical amino acid are defined [here](http://www.ccp14.ac.uk/ccp/web-mirrors/garlic/garlic/commands/dihedrals.html).\n",
    "\n",
    "Run the following cell and experiment with different $\\chi$ angles for canonical amino acids. (`Show > Sticks` if the residue disappears when selecting a different residue identity)"
   ]
  },
  {
   "cell_type": "code",
   "execution_count": 8,
   "metadata": {},
   "outputs": [
    {
     "data": {
      "application/vnd.jupyter.widget-view+json": {
       "model_id": "9c96877ea1054040addf8c0f34f5d421",
       "version_major": 2,
       "version_minor": 0
      },
      "text/plain": [
       "interactive(children=(Dropdown(description='Residue:', index=1, options=('C', 'D', 'E', 'F', 'H', 'I', 'K', 'L…"
      ]
     },
     "metadata": {},
     "output_type": "display_data"
    }
   ],
   "source": [
    "# Visualize DOFs for different amino acids\n",
    "interactive_rotamer = pyrosetta.pose_from_sequence('L')\n",
    "pymover.apply(interactive_rotamer)\n",
    "\n",
    "with output:\n",
    "    def select_residue(resname):\n",
    "        toolbox.mutate_residue(interactive_rotamer, 1, resname)\n",
    "        pymover.apply(interactive_rotamer)\n",
    "        \n",
    "        # Get chi for current residue\n",
    "        chi_dofs = interactive_rotamer.residue(1).chi()\n",
    "        for chi_num, chi_dof in enumerate(chi_dofs, start=1):\n",
    "            degree_slider = widgets.IntSlider(min=-180, max=180, step=10, value=chi_dof, description=fr'\\(\\chi_{chi_num}\\)')\n",
    "            display(interactive(alter_chi, chi=fixed(chi_num), degrees=degree_slider))\n",
    "\n",
    "    def alter_chi(chi, degrees):\n",
    "        interactive_rotamer.residue(1).set_chi(chi, degrees)\n",
    "        pymover.apply(interactive_rotamer)\n",
    "        \n",
    "# Interactive bits\n",
    "residue_selection = widgets.Dropdown( options=[res for res in 'CDEFHIKLMNQRSTVWY'], value='D', description='Residue:')\n",
    "display(interactive(select_residue, resname=residue_selection))"
   ]
  },
  {
   "cell_type": "markdown",
   "metadata": {},
   "source": [
    "You may have observed that many $\\chi$ angle combinations produce obviously unfavorable conformations where the side chain makes steric clashes with itself. Indeed, this is what is observed in the PDB: amino acid side chains typically adpot certain conformations with large energy barriers between them. \n",
    "\n",
    "The [Dunbrack Rotatmer Library](https://doi.org/10.1016/j.str.2011.03.019) generated by the Roland Dunbrack Lab at the Fox Chase Cancer Center is a quantitative assessment of the different side chain conformations adopted by high-quality protein structures in the Protein Data Bank. These discrete side chain conformations, called **rotamers**, depend on backbone $\\phi / \\psi$ torsion angles. Rotamer probabilities are binned by major rotameric states, where the mean and standard deviation for each $\\chi$ angle are provided for each 10$^\\circ$ increment of $\\phi$ and $\\psi$.\n",
    "\n",
    "Run the following cell to explore major rotameric states for canonical residues at different values of $\\phi$ and $\\psi$."
   ]
  },
  {
   "cell_type": "code",
   "execution_count": null,
   "metadata": {
    "scrolled": false
   },
   "outputs": [],
   "source": [
    "# Explore rotamers for a given phi/psi\n",
    "bb_dependent_rotamer = pyrosetta.pose_from_sequence('GSG')\n",
    "rotamer_df_dict = dict()\n",
    "rotamer_dir = os.path.join('Assets', 'Rotamers')\n",
    "for rot in os.listdir(rotamer_dir):\n",
    "    if rot.endswith('.bbdep.rotamers.lib.gz'):\n",
    "        resname = rot[:3]\n",
    "        residue_rotamers = gzip.open(os.path.join(rotamer_dir, f'{resname}.bbdep.rotamers.lib.gz'))\n",
    "        rotamer_df = pd.read_csv(residue_rotamers, comment='#', delim_whitespace=True, header=None).groupby([1,2])\n",
    "        rotamer_df_dict[resname] = rotamer_df\n",
    "        \n",
    "with output:\n",
    "    def set_phi(phi):\n",
    "        bb_dependent_rotamer.set_phi(2, phi)\n",
    "        toolbox.mutate_residue(bb_dependent_rotamer, 2, bb_dependent_rotamer.residue(2).name1())\n",
    "        pymover.apply(bb_dependent_rotamer)\n",
    "\n",
    "    def set_psi(psi):\n",
    "        bb_dependent_rotamer.set_psi(2, psi)\n",
    "        toolbox.mutate_residue(bb_dependent_rotamer, 2, bb_dependent_rotamer.residue(2).name1())\n",
    "        pymover.apply(bb_dependent_rotamer)\n",
    "\n",
    "    def display_residue(resname):\n",
    "        toolbox.mutate_residue(bb_dependent_rotamer, 2, resname)\n",
    "        pymover.apply(bb_dependent_rotamer)\n",
    "    \n",
    "    def current_rotamer():\n",
    "        current_phi = round(bb_dependent_rotamer.phi(2))\n",
    "        current_psi = round(bb_dependent_rotamer.psi(2))\n",
    "        curent_resname = bb_dependent_rotamer.residue(2).name3().lower()\n",
    "        current_rotamers_df = rotamer_df_dict[curent_resname].get_group((current_phi, current_psi))\n",
    "        return curent_resname, current_rotamers_df\n",
    "    \n",
    "    def apply_rotamer(row):\n",
    "        curent_resname, current_rotamers_df = current_rotamer()\n",
    "        current_row = current_rotamers_df.iloc[row]\n",
    "        for chi, i in enumerate(range(9, 13), start=1):\n",
    "            if current_row[i] != 0:\n",
    "                bb_dependent_rotamer.residue(2).set_chi(chi, current_row[i])\n",
    "        print(f'Rotamer Probability: {current_row[8]}')\n",
    "        pymover.apply(bb_dependent_rotamer)\n",
    "    \n",
    "    def update_rotamers(_):\n",
    "        curent_resname, current_rotamers_df = current_rotamer()\n",
    "        slider.options=range(0, len(current_rotamers_df))\n",
    "        slider.value=0\n",
    "        \n",
    "# Widgets\n",
    "slider = widgets.SelectionSlider(options=range(0, 1), description='Rotamer')\n",
    "mutate_dropdown = widgets.Dropdown(options=[res for res in 'CDEFHIKLMNQRSTVWY'], value='S', description='Residue')\n",
    "phi_slider = widgets.IntSlider(min=-180, max=180, step=10, value=180)\n",
    "psi_slider = widgets.IntSlider(min=-180, max=180, step=10, value=180)\n",
    "\n",
    "phi_slider.observe(update_rotamers)\n",
    "psi_slider.observe(update_rotamers)\n",
    "mutate_dropdown.observe(update_rotamers)\n",
    "\n",
    "display(interactive(set_phi, phi=phi_slider))\n",
    "display(interactive(set_psi, psi=psi_slider))\n",
    "display(interactive(display_residue, resname=mutate_dropdown))\n",
    "display(interactive(apply_rotamer, row=slider))"
   ]
  },
  {
   "cell_type": "markdown",
   "metadata": {},
   "source": [
    "In the next tutorial, we will explore how Rosetta takes advantage of backbone and side-chain degrees for freedom to model and design proteins."
   ]
  },
  {
   "cell_type": "markdown",
   "metadata": {},
   "source": [
    "# Deliverables\n",
    "\n",
    "* Submit a PDB file of the parametrically designed protein backbone you created\n",
    "* Submit a PDB file of the loops generated generated by Rosetta for the four-helix bundle"
   ]
  },
  {
   "cell_type": "markdown",
   "metadata": {},
   "source": [
    "# Additional Resources\n",
    "* [Principles for Designing Protein Structures](https://www.ncbi.nlm.nih.gov/pmc/articles/PMC3705962/)\n",
    "* [De novo design of a fluorescence-activating β-barrel](https://www.ncbi.nlm.nih.gov/pubmed/30209393)\n",
    "* [De novo design of a four-fold symmetric TIM-barrel protein with atomic-level accuracy](https://www.ncbi.nlm.nih.gov/pubmed/26595462)"
   ]
  }
 ],
 "metadata": {
  "kernelspec": {
   "display_name": "Python 3",
   "language": "python",
   "name": "python3"
  },
  "language_info": {
   "codemirror_mode": {
    "name": "ipython",
    "version": 3
   },
   "file_extension": ".py",
   "mimetype": "text/x-python",
   "name": "python",
   "nbconvert_exporter": "python",
   "pygments_lexer": "ipython3",
   "version": "3.6.8"
  }
 },
 "nbformat": 4,
 "nbformat_minor": 4
}
