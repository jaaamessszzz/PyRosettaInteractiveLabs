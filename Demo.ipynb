{
 "cells": [
  {
   "cell_type": "markdown",
   "metadata": {},
   "source": [
    "# Doing Fun Things with PyRosetta\n",
    "Today we're going to talk about why interacting with PyRosetta though Jupyter Notebooks and PyMOL is a good idea. Yay!\n",
    "First things first, we're going to import and initialize Pyrosetta. This is always the first thing we do."
   ]
  },
  {
   "cell_type": "code",
   "execution_count": 10,
   "metadata": {},
   "outputs": [
    {
     "name": "stdout",
     "output_type": "stream",
     "text": [
      "Found rosetta database at: /usr/local/lib/python3.6/site-packages/pyrosetta/database; using it....\n",
      "PyRosetta-4 2017 [Rosetta devel 2018.26.post.dev+419.master.c869d56abb7c869d56abb713ec2f8552048670acca3247a5423 2018-07-09T18:12:08] retrieved from: https://github.com/RosettaCommons/main.git\n",
      "(C) Copyright Rosetta Commons Member Institutions.\n",
      "Created in JHU by Sergey Lyskov and PyRosetta Team.\n",
      "\n",
      "\u001b[0mcore.init: \u001b[0mChecking for fconfig files in pwd and ./rosetta/flags\n",
      "\n",
      "\u001b[0mcore.init: \u001b[0mRosetta version: 2018.26.post.dev+419.master.c869d56abb7 c869d56abb713ec2f8552048670acca3247a5423 https://github.com/RosettaCommons/main.git 2018-07-09T18:12:08\n",
      "\u001b[0mcore.init: \u001b[0mcommand: PyRosetta -ex1 -ex2aro -database /usr/local/lib/python3.6/site-packages/pyrosetta/database\n",
      "\u001b[0mcore.init: \u001b[0m'RNG device' seed mode, using '/dev/urandom', seed=1910382781 seed_offset=0 real_seed=1910382781\n",
      "\u001b[0mcore.init.random: \u001b[0mRandomGenerator:init: Normal mode, seed=1910382781 RG_type=mt19937\n"
     ]
    }
   ],
   "source": [
    "import pyrosetta\n",
    "import pyrosetta.rosetta as rosetta\n",
    "\n",
    "pyrosetta.init()"
   ]
  },
  {
   "cell_type": "markdown",
   "metadata": {},
   "source": [
    "Great! Now that we have initialized PyRosetta, we can start working with proteins. One of the major formats for storing information about proteins is a PDB file. *Blah blah blah coordinates* Let's load a fun example of a protein that is interesting for some reason."
   ]
  },
  {
   "cell_type": "code",
   "execution_count": 11,
   "metadata": {},
   "outputs": [
    {
     "name": "stdout",
     "output_type": "stream",
     "text": [
      "\u001b[0mcore.import_pose.import_pose: \u001b[0mFile 'Assets/Demo/1o3d.pdb' automatically determined to be of type PDB\n",
      "\u001b[0mcore.io.pose_from_sfr.PoseFromSFRBuilder: \u001b[0m\u001b[1m[ WARNING ]\u001b[0m discarding 3 atoms at position 1 in file Assets/Demo/1o3d.pdb. Best match rsd_type:  ILE:NtermProteinFull\n",
      "\u001b[0mcore.io.pose_from_sfr.PoseFromSFRBuilder: \u001b[0m\u001b[1m[ WARNING ]\u001b[0m discarding 1 atoms at position 40 in file Assets/Demo/1o3d.pdb. Best match rsd_type:  HIS\n",
      "\u001b[0mcore.conformation.Conformation: \u001b[0mFound disulfide between residues 7 137\n",
      "\u001b[0mcore.conformation.Conformation: \u001b[0mcurrent variant for 7 CYS\n",
      "\u001b[0mcore.conformation.Conformation: \u001b[0mcurrent variant for 137 CYS\n",
      "\u001b[0mcore.conformation.Conformation: \u001b[0mcurrent variant for 7 CYD\n",
      "\u001b[0mcore.conformation.Conformation: \u001b[0mcurrent variant for 137 CYD\n",
      "\u001b[0mcore.conformation.Conformation: \u001b[0mFound disulfide between residues 25 41\n",
      "\u001b[0mcore.conformation.Conformation: \u001b[0mcurrent variant for 25 CYS\n",
      "\u001b[0mcore.conformation.Conformation: \u001b[0mcurrent variant for 41 CYS\n",
      "\u001b[0mcore.conformation.Conformation: \u001b[0mcurrent variant for 25 CYD\n",
      "\u001b[0mcore.conformation.Conformation: \u001b[0mcurrent variant for 41 CYD\n",
      "\u001b[0mcore.conformation.Conformation: \u001b[0mFound disulfide between residues 109 210\n",
      "\u001b[0mcore.conformation.Conformation: \u001b[0mcurrent variant for 109 CYS\n",
      "\u001b[0mcore.conformation.Conformation: \u001b[0mcurrent variant for 210 CYS\n",
      "\u001b[0mcore.conformation.Conformation: \u001b[0mcurrent variant for 109 CYD\n",
      "\u001b[0mcore.conformation.Conformation: \u001b[0mcurrent variant for 210 CYD\n",
      "\u001b[0mcore.conformation.Conformation: \u001b[0mFound disulfide between residues 116 183\n",
      "\u001b[0mcore.conformation.Conformation: \u001b[0mcurrent variant for 116 CYS\n",
      "\u001b[0mcore.conformation.Conformation: \u001b[0mcurrent variant for 183 CYS\n",
      "\u001b[0mcore.conformation.Conformation: \u001b[0mcurrent variant for 116 CYD\n",
      "\u001b[0mcore.conformation.Conformation: \u001b[0mcurrent variant for 183 CYD\n",
      "\u001b[0mcore.conformation.Conformation: \u001b[0mFound disulfide between residues 148 162\n",
      "\u001b[0mcore.conformation.Conformation: \u001b[0mcurrent variant for 148 CYS\n",
      "\u001b[0mcore.conformation.Conformation: \u001b[0mcurrent variant for 162 CYS\n",
      "\u001b[0mcore.conformation.Conformation: \u001b[0mcurrent variant for 148 CYD\n",
      "\u001b[0mcore.conformation.Conformation: \u001b[0mcurrent variant for 162 CYD\n",
      "\u001b[0mcore.conformation.Conformation: \u001b[0mFound disulfide between residues 173 197\n",
      "\u001b[0mcore.conformation.Conformation: \u001b[0mcurrent variant for 173 CYS\n",
      "\u001b[0mcore.conformation.Conformation: \u001b[0mcurrent variant for 197 CYS\n",
      "\u001b[0mcore.conformation.Conformation: \u001b[0mcurrent variant for 173 CYD\n",
      "\u001b[0mcore.conformation.Conformation: \u001b[0mcurrent variant for 197 CYD\n"
     ]
    }
   ],
   "source": [
    "my_pose = rosetta.core.import_pose.pose_from_file('Assets/Demo/1o3d.pdb')"
   ]
  },
  {
   "attachments": {},
   "cell_type": "markdown",
   "metadata": {},
   "source": [
    "Rosetta parses the PDB file and converts it into a representation called a \"pose\" that consists of fold trees, interaction graphs, residues, atoms, and more. Let's take a look at this protein in PyMOL. \n",
    "\n",
    "Navigate to where you've installed PyRosetta on your computer and find the file called `PyMOL-RosettaServer.py`. The path should be `<Base path>/PyRosetta/src/PyMOL-RosettaServer.py`. Open up PyMOL and enter the command `run path/to/PyMOL-RosettaServer.py`. This will open a connection between Rosetta and PyMOL so that they can communicate.\n",
    "\n",
    "This is what it should look like:\n",
    "![](Assets/Demo/RunPyMOLServer.png)\n",
    "\n",
    "Once the connection is established, we can pass a pose to PyMOL."
   ]
  },
  {
   "cell_type": "code",
   "execution_count": 12,
   "metadata": {},
   "outputs": [],
   "source": [
    "pymover = rosetta.protocols.moves.PyMOLMover()\n",
    "pymover.apply(my_pose)\n",
    "\n",
    "pyobs = rosetta.protocols.moves.PyMOLObserver()\n",
    "pyobs.attach(my_pose)"
   ]
  },
  {
   "attachments": {},
   "cell_type": "markdown",
   "metadata": {},
   "source": [
    "You should see the pose in Pymol now!\n",
    "\n",
    "![](Assets/Demo/1o3d_import.png)\n",
    "\n",
    "This oberver will allow use to watch what Rosetta is doing to the pose in real time.\n",
    "\n",
    "## Actually Doing Seomthing in PyRosetta\n",
    "Now that we can import a pose into PyRosetta and view it in PyMOL, let's try doing a simple procedure. First, let's see how good Rosetta thinks this sturucture is."
   ]
  },
  {
   "cell_type": "code",
   "execution_count": 13,
   "metadata": {},
   "outputs": [
    {
     "name": "stdout",
     "output_type": "stream",
     "text": [
      "\u001b[0mcore.scoring.ScoreFunctionFactory: \u001b[0mSCOREFUNCTION: \u001b[32mref2015\u001b[0m\n"
     ]
    },
    {
     "data": {
      "text/plain": [
       "-337.8313807680202"
      ]
     },
     "execution_count": 13,
     "metadata": {},
     "output_type": "execute_result"
    }
   ],
   "source": [
    "scorefxn = rosetta.core.scoring.get_score_function()\n",
    "scorefxn(my_pose)"
   ]
  },
  {
   "cell_type": "markdown",
   "metadata": {},
   "source": [
    "That's pretty good! In Rosetta, lower energies are better. Let's get a more granular view and break down where these energies are coming from."
   ]
  },
  {
   "cell_type": "code",
   "execution_count": 14,
   "metadata": {},
   "outputs": [],
   "source": [
    "pymover.update_energy(True)\n",
    "pymover.send_energy(my_pose, rosetta.core.scoring.total_score)\n",
    "pymover.label_energy(my_pose, 'fa_rep')\n",
    "pymover.apply(my_pose)"
   ]
  },
  {
   "cell_type": "code",
   "execution_count": null,
   "metadata": {},
   "outputs": [],
   "source": []
  },
  {
   "cell_type": "code",
   "execution_count": null,
   "metadata": {},
   "outputs": [],
   "source": []
  }
 ],
 "metadata": {
  "kernelspec": {
   "display_name": "Python 3",
   "language": "python",
   "name": "python3"
  },
  "language_info": {
   "codemirror_mode": {
    "name": "ipython",
    "version": 3
   },
   "file_extension": ".py",
   "mimetype": "text/x-python",
   "name": "python",
   "nbconvert_exporter": "python",
   "pygments_lexer": "ipython3",
   "version": "3.6.5"
  }
 },
 "nbformat": 4,
 "nbformat_minor": 2
}
